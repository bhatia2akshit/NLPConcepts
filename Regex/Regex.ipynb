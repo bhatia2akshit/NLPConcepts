{
 "cells": [
  {
   "cell_type": "markdown",
   "metadata": {
    "deletable": false,
    "editable": false,
    "nbgrader": {
     "cell_type": "markdown",
     "checksum": "ac605bb84d12a0ebc4b06a928083e5fd",
     "grade": false,
     "grade_id": "cell-markdown-task",
     "locked": true,
     "schema_version": 3,
     "solution": false
    }
   },
   "source": [
    "# Regular expressions\n",
    "(5 points)\n",
    "\n",
    "In this exercise, you should define 3 regular expression patterns. The patterns will be checked by selecting sub strings from example texts.\n",
    "\n",
    "#### Example\n",
    "\n",
    "The patterns should be stored in a variable which is already defined for the single tasks (so that the tests can access them, easily). For example, imagine that we are asked to define a pattern in variable `example` that can be used to search a string that exactly matches `abc`. We would define the following variable:\n",
    "```java\n",
    "String examplePattern = null;\n",
    "examplePattern = \"abc\";\n",
    "```\n",
    "Note that the pattern is written as a Java string, i.e., it might be necessary to escape certain characters. For example, if our pattern should contain the newline character `\\n` it has to be escaped as `\"\\\\n\"`.\n",
    "\n",
    "#### Hints\n",
    "\n",
    "- Unfortunately, not all engines which are able to process regular expressions offer the same character classes. Therefore, it is a good idea to read about the engine you are using and its abilities. For our tests, we are relying on the standard [Pattern class](https://docs.oracle.com/en/java/javase/11/docs/api/java.base/java/util/regex/Pattern.html) class of Java.\n",
    "\n",
    "#### Notes\n",
    "\n",
    "- You are free to use a different IDE to develop your solution. However, you have to copy the solution into this notebook to submit it.\n",
    "- Do not add additional external libraries.\n",
    "- Interface\n",
    "  - You can use _[TAB]_ for autocompletion and _[SHIFT]_+_[TAB]_ for code inspection.\n",
    "  - Use _Menu_ -> _View_ -> _Toggle Line Numbers_ for debugging.\n",
    "  - Check _Menu_ -> _Help_ -> _Keyboard Shortcuts_.\n",
    "- Known issues\n",
    "  - All global variables will be set to void after an import.\n",
    "  - Missing spaces arround `%` (Modulo) can cause unexpected errors so please make sure that you have added spaces around every `%` character.\n",
    "- Finish\n",
    "  - Save your solution by clicking on the _disk icon_.\n",
    "  - Make sure that all necessary imports are listed at the beginning of your cell.\n",
    "  - Run a final check of your solution by\n",
    "    - click on _restart the kernel, then re-run the whole notebook_ (the fast forward arrow in the tool bar)\n",
    "    - wait fo the kernel to restart and execute all cells (all executable cells should have numbers in front of them instead of a `[*]`) \n",
    "    - Check all executed cells for errors. If an exception is thrown, please check your code. Note that although the error might look cryptic, until now we never encounter that an exception was caused without a valid reason inside of the submitted code. A good way to check the code is to copy the solution into a new class in your favorite IDE and check\n",
    "      - errors reported by the IDE\n",
    "      - imports the IDE adds to your code which might be missing in your submission.\n",
    "  - Finally, choose _Menu_ -> _File_ -> _Close and Halt_.\n",
    "  - Do not forget to _Submit_ your solution in the _Assignments_ view.\n",
    "  \n",
    "## Task 1\n",
    "(1 point)\n",
    "\n",
    "Define a pattern for selecting all abbreviations. You can assume that an abbreviation will comprise only capital letters.\n",
    "\n",
    "The example sentence for the example test is:\n",
    "> The IEE shouldn't be confused with the IEEE. The latter was found in 1871 and merged with the IERE, IIE and IET.\n",
    "\n",
    "Please note that the hidden tests may contain other abbreviations than the example sentence."
   ]
  },
  {
   "cell_type": "code",
   "execution_count": 1,
   "metadata": {
    "deletable": false,
    "nbgrader": {
     "cell_type": "code",
     "checksum": "2af099b744db90496554a9c4e39b5ec8",
     "grade": false,
     "grade_id": "cell-code",
     "locked": false,
     "schema_version": 3,
     "solution": true
    }
   },
   "outputs": [],
   "source": [
    "String pattern1 = \"\\\\b[A-Z]+\\\\b\";\n",
    "// YOUR CODE HERE"
   ]
  },
  {
   "cell_type": "markdown",
   "metadata": {
    "deletable": false,
    "editable": false,
    "nbgrader": {
     "cell_type": "markdown",
     "checksum": "7e46fe9b34bb0212fed02c4c848e8d88",
     "grade": false,
     "grade_id": "cell-markdown-evaluation",
     "locked": true,
     "schema_version": 3,
     "solution": false
    }
   },
   "source": [
    "#### Evaluation Task 1\n",
    "\n",
    "- Run the following cell to test your implementation.\n",
    "- You can ignore the cells containing the line `Ignore this cell`."
   ]
  },
  {
   "cell_type": "code",
   "execution_count": 2,
   "metadata": {
    "deletable": false,
    "editable": false,
    "nbgrader": {
     "cell_type": "code",
     "checksum": "acb7d6fe864664c8b0ad818f6efc84de",
     "grade": true,
     "grade_id": "cell-autograde-visible",
     "locked": true,
     "points": 0,
     "schema_version": 3,
     "solution": false
    }
   },
   "outputs": [
    {
     "name": "stdout",
     "output_type": "stream",
     "text": [
      "Checking your pattern with the text \"The IEE shouldn't be confused with the IEEE. The latter was found in 1871 and merged with the IERE, IIE and IET.\".\n",
      "Test(s) successfully completed.\n"
     ]
    }
   ],
   "source": [
    "%maven org.junit.jupiter:junit-jupiter-api:5.3.1\n",
    "import org.junit.jupiter.api.Assertions;\n",
    "import org.opentest4j.AssertionFailedError;\n",
    "\n",
    "/**\n",
    " * Method used for checking the given pattern by applying it to the given text and \n",
    " * checking whether the selected substrings have the expected positions.\n",
    " */\n",
    "public static void checkPattern(String text, String pattern, int[][] expectedPositions) {\n",
    "    System.out.println(\"Checking your pattern with the text \\\"\" + text + \"\\\".\");\n",
    "    try {\n",
    "        Assertions.assertNotNull(pattern, \"The given pattern is null.\");   \n",
    "        int errorCount = 0;\n",
    "        int[][] positions = getMatchPositions(text, pattern);\n",
    "        int pos1 = 0, pos2 = 0;\n",
    "        while ((pos1 < positions.length) && (pos2 < expectedPositions.length)) {\n",
    "            // start matches\n",
    "            if (positions[pos1][0] == expectedPositions[pos2][0]) {\n",
    "                if (positions[pos1][1] != expectedPositions[pos2][1]) {\n",
    "                    System.err.println(\"Your pattern selected an unexpected part of the text: \\\"\"\n",
    "                            + text.substring(positions[pos1][0], positions[pos1][1]) + \"\\\".\");\n",
    "                    ++pos1;\n",
    "                    ++errorCount;\n",
    "                } else {\n",
    "                    // everything is ok\n",
    "                    ++pos1;\n",
    "                    ++pos2;\n",
    "                }\n",
    "            } else {\n",
    "                if (positions[pos1][0] < expectedPositions[pos2][0]) {\n",
    "                    System.err.println(\"Your pattern selected an unexpected part of the text: \\\"\"\n",
    "                            + text.substring(positions[pos1][0], positions[pos1][1]) + \"\\\".\");\n",
    "                    ++pos1;\n",
    "                    ++errorCount;\n",
    "                } else {\n",
    "                    System.err.println(\"Your pattern did not select the expected sub string: \\\"\"\n",
    "                            + text.substring(expectedPositions[pos2][0], expectedPositions[pos2][1]) + \"\\\".\");\n",
    "                    ++pos2;\n",
    "                    ++errorCount;\n",
    "                }\n",
    "            }\n",
    "        }\n",
    "        while (pos1 < positions.length) {\n",
    "            System.err.println(\"Your pattern selected an unexpected part of the text: \\\"\"\n",
    "                    + text.substring(positions[pos1][0], positions[pos1][1]) + \"\\\".\");\n",
    "            ++pos1;\n",
    "            ++errorCount;\n",
    "        }\n",
    "        while (pos2 < expectedPositions.length) {\n",
    "            System.err.println(\"Your pattern did not select the expected sub string: \\\"\"\n",
    "                    + text.substring(expectedPositions[pos2][0], expectedPositions[pos2][1]) + \"\\\".\");\n",
    "            ++pos2;\n",
    "            ++errorCount;\n",
    "        }\n",
    "        Assertions.assertEquals(0, errorCount, \"There were errors in your pattern.\");\n",
    "        System.out.println(\"Test(s) successfully completed.\");\n",
    "    } catch (AssertionFailedError e) {\n",
    "        System.err.println(e);\n",
    "        throw e;\n",
    "    } catch (Throwable e) {\n",
    "        System.err.println(\"Your solution caused an unexpected error:\");\n",
    "        throw e;\n",
    "    }\n",
    "}\n",
    "\n",
    "/**\n",
    " * Returns the positions (start and end positions) of the parts of the given text matching the given pattern. \n",
    " */\n",
    "public static int[][] getMatchPositions(String text, String pattern) {\n",
    "    Pattern p = Pattern.compile(pattern);\n",
    "    Matcher matcher = p.matcher(text);\n",
    "    List<int[]> results = new ArrayList<>();\n",
    "    while (matcher.find()) {\n",
    "        results.add(new int[] { matcher.start(), matcher.end() });\n",
    "    }\n",
    "    return results.toArray(new int[results.size()][]);\n",
    "}\n",
    "\n",
    "/*\n",
    " * Example test case for Task 1\n",
    " */\n",
    "String text1 = \"The IEE shouldn't be confused with the IEEE. The latter was found in 1871 and merged with the IERE, IIE and IET.\";\n",
    "int[][] expectedPositions1 = new int[5][2];\n",
    "expectedPositions1[0][0] = text1.indexOf(\"IEE\");\n",
    "expectedPositions1[0][1] = expectedPositions1[0][0] + 3;\n",
    "expectedPositions1[1][0] = text1.indexOf(\"IEEE\");\n",
    "expectedPositions1[1][1] = expectedPositions1[1][0] + 4;\n",
    "expectedPositions1[2][0] = text1.indexOf(\"IERE\");\n",
    "expectedPositions1[2][1] = expectedPositions1[2][0] + 4;\n",
    "expectedPositions1[3][0] = text1.indexOf(\"IIE\");\n",
    "expectedPositions1[3][1] = expectedPositions1[3][0] + 3;\n",
    "expectedPositions1[4][0] = text1.indexOf(\"IET\");\n",
    "expectedPositions1[4][1] = expectedPositions1[4][0] + 3;\n",
    "\n",
    "checkPattern(text1, pattern1, expectedPositions1);"
   ]
  },
  {
   "cell_type": "code",
   "execution_count": 3,
   "metadata": {
    "deletable": false,
    "editable": false,
    "nbgrader": {
     "cell_type": "code",
     "checksum": "8a3c775cba39765e86387d52378f4b40",
     "grade": true,
     "grade_id": "cell-autograde-1",
     "locked": true,
     "points": 1,
     "schema_version": 3,
     "solution": false
    }
   },
   "outputs": [],
   "source": [
    "// Ignore this cell"
   ]
  },
  {
   "cell_type": "markdown",
   "metadata": {
    "deletable": false,
    "editable": false,
    "nbgrader": {
     "cell_type": "markdown",
     "checksum": "98750a6fe481a08ff4274ffabe7a4969",
     "grade": false,
     "grade_id": "cell-markdown-task2",
     "locked": true,
     "schema_version": 3,
     "solution": false
    }
   },
   "source": [
    "## Task 2\n",
    "(2 points)\n",
    "\n",
    "Define a pattern for selecting all words that have `\"the\"` as a _true subset_, i.e., words that contain it as a substring but have at least one more character.\n",
    "\n",
    "The example sentence for the test is:\n",
    "> There was a theologian named Aristides the Athenian.\n",
    "\n",
    "Please make sure that only the words are selected without leading or trailing whitespaces or punctuation characters."
   ]
  },
  {
   "cell_type": "code",
   "execution_count": 4,
   "metadata": {
    "deletable": false,
    "nbgrader": {
     "cell_type": "code",
     "checksum": "67758f6d7b2c519aea00e4e45b0bdc00",
     "grade": false,
     "grade_id": "cell-code2",
     "locked": false,
     "schema_version": 3,
     "solution": true
    }
   },
   "outputs": [],
   "source": [
    "String pattern2 = \"(\\\\w*[tT]he\\\\w+|\\\\w+[tT]he\\\\w*)\";\n",
    "// YOUR CODE HERE"
   ]
  },
  {
   "cell_type": "markdown",
   "metadata": {
    "deletable": false,
    "editable": false,
    "nbgrader": {
     "cell_type": "markdown",
     "checksum": "2bb609f4eedf9f0decf98577a3c95dbf",
     "grade": false,
     "grade_id": "cell-markdown-evaluation2",
     "locked": true,
     "schema_version": 3,
     "solution": false
    }
   },
   "source": [
    "#### Evaluation Task 2\n",
    "\n",
    "- Run the following cell to test your implementation.\n",
    "- Make sure that you executed the test for Task 1 _before_ executing the tests here.\n",
    "- You can ignore the cells containing the line `Ignore this cell`."
   ]
  },
  {
   "cell_type": "code",
   "execution_count": 5,
   "metadata": {
    "deletable": false,
    "editable": false,
    "nbgrader": {
     "cell_type": "code",
     "checksum": "71a4733a93731583756c0f75445fe53a",
     "grade": true,
     "grade_id": "cell-autograde-visible2",
     "locked": true,
     "points": 0,
     "schema_version": 3,
     "solution": false
    }
   },
   "outputs": [
    {
     "name": "stdout",
     "output_type": "stream",
     "text": [
      "Checking your pattern with the text \"There was a theologian named Aristides the Athenian.\".\n",
      "Test(s) successfully completed.\n"
     ]
    }
   ],
   "source": [
    "/*\n",
    " * Example test case for Task 2\n",
    " */\n",
    "String text2 = \"There was a theologian named Aristides the Athenian.\";\n",
    "int[][] expectedPositions2 = new int[3][2];\n",
    "expectedPositions2[0][0] = text2.indexOf(\"There\");\n",
    "expectedPositions2[0][1] = expectedPositions2[0][0] + 5;\n",
    "expectedPositions2[1][0] = text2.indexOf(\"theologian\");\n",
    "expectedPositions2[1][1] = expectedPositions2[1][0] + 10;\n",
    "expectedPositions2[2][0] = text2.indexOf(\"Athenian\");\n",
    "expectedPositions2[2][1] = expectedPositions2[2][0] + 8;\n",
    "\n",
    "checkPattern(text2, pattern2, expectedPositions2);"
   ]
  },
  {
   "cell_type": "code",
   "execution_count": 6,
   "metadata": {
    "deletable": false,
    "editable": false,
    "nbgrader": {
     "cell_type": "code",
     "checksum": "524647178811e51573f60ce2158d7f95",
     "grade": true,
     "grade_id": "cell-autograde-2",
     "locked": true,
     "points": 1,
     "schema_version": 3,
     "solution": false
    }
   },
   "outputs": [],
   "source": [
    "// Ignore this cell"
   ]
  },
  {
   "cell_type": "code",
   "execution_count": 7,
   "metadata": {
    "deletable": false,
    "editable": false,
    "nbgrader": {
     "cell_type": "code",
     "checksum": "51973c04c78594352fe3f84ac49f9793",
     "grade": true,
     "grade_id": "cell-autograde-22",
     "locked": true,
     "points": 1,
     "schema_version": 3,
     "solution": false
    }
   },
   "outputs": [],
   "source": [
    "// Ignore this cell"
   ]
  },
  {
   "cell_type": "markdown",
   "metadata": {
    "deletable": false,
    "editable": false,
    "nbgrader": {
     "cell_type": "markdown",
     "checksum": "a28354461ed781b7b5ad2f9092609255",
     "grade": false,
     "grade_id": "cell-markdown-task3",
     "locked": true,
     "schema_version": 3,
     "solution": false
    }
   },
   "source": [
    "## Task 3\n",
    "(1 point)\n",
    "\n",
    "Define a pattern for selecting all words that have the substring `\"the\"` but not `\"theo\"`. Note that in contrast to the previous task, `\"the\"` does not have to be a true subset, i.e., the word `\"the\"` should be selected as well.\n",
    "\n",
    "The example sentence for the test is:\n",
    "> There are theologians discussing theories about the creation of the world.\n",
    "\n",
    "Note that the tests do _not_ contain the special case words that have both substrings, e.g., `\"theotherapy\"` containing `\"theo\"` and `\"the\"` is excluded from tests.\n",
    "\n",
    "Please make sure that only the words are selected without leading or trailing whitespaces or punctuation characters."
   ]
  },
  {
   "cell_type": "code",
   "execution_count": 8,
   "metadata": {
    "deletable": false,
    "nbgrader": {
     "cell_type": "code",
     "checksum": "17a03f8f199f31e44523cecaed15db49",
     "grade": false,
     "grade_id": "cell-code3",
     "locked": false,
     "schema_version": 3,
     "solution": true
    }
   },
   "outputs": [],
   "source": [
    "// String pattern3 = \"\\\\w*[aA]\\\\w*[aA]\\\\w*[aA]\\\\w*\";\n",
    "String pattern3 = \"\\\\S*[tT]he[^o ]*\\\\b\";\n",
    "// YOUR CODE HERE"
   ]
  },
  {
   "cell_type": "markdown",
   "metadata": {
    "deletable": false,
    "editable": false,
    "nbgrader": {
     "cell_type": "markdown",
     "checksum": "30d610eb8bee4d35aa36f42841ac2177",
     "grade": false,
     "grade_id": "cell-markdown-evaluation3",
     "locked": true,
     "schema_version": 3,
     "solution": false
    }
   },
   "source": [
    "#### Evaluation Task 3\n",
    "\n",
    "- Run the following cell to test your implementation.\n",
    "- Make sure that you executed the test for Task 1 _before_ executing the tests here.\n",
    "- You can ignore the cells containing the line `Ignore this cell`."
   ]
  },
  {
   "cell_type": "code",
   "execution_count": 9,
   "metadata": {
    "deletable": false,
    "editable": false,
    "nbgrader": {
     "cell_type": "code",
     "checksum": "6fef038d847b702c6d84542c1ee26821",
     "grade": true,
     "grade_id": "cell-autograde-visible3",
     "locked": true,
     "points": 0,
     "schema_version": 3,
     "solution": false
    }
   },
   "outputs": [
    {
     "name": "stdout",
     "output_type": "stream",
     "text": [
      "Checking your pattern with the text \"There are theologians discussing theories about the creation of the world.\".\n",
      "Test(s) successfully completed.\n"
     ]
    }
   ],
   "source": [
    "/*\n",
    " * Example test case for Task 3\n",
    " */\n",
    "String text3 = \"There are theologians discussing theories about the creation of the world.\";\n",
    "int[][] expectedPositions3 = new int[3][2];\n",
    "expectedPositions3[0][0] = text3.indexOf(\"There\");\n",
    "expectedPositions3[0][1] = expectedPositions3[0][0] + 5;\n",
    "// We are searching for \"the creation\" to make sure that we are selecting the correct word.\n",
    "// The position we are finally using is only marking \"the\"\n",
    "expectedPositions3[1][0] = text3.indexOf(\"the creation\");\n",
    "expectedPositions3[1][1] = expectedPositions3[1][0] + 3;\n",
    "// We are searching for \"the world\" to make sure that we are selecting the correct word.\n",
    "// The position we are finally using is only marking \"the\"\n",
    "expectedPositions3[2][0] = text3.indexOf(\"the world\");\n",
    "expectedPositions3[2][1] = expectedPositions3[2][0] + 3;\n",
    "\n",
    "checkPattern(text3, pattern3, expectedPositions3);"
   ]
  },
  {
   "cell_type": "code",
   "execution_count": 10,
   "metadata": {
    "deletable": false,
    "editable": false,
    "nbgrader": {
     "cell_type": "code",
     "checksum": "5161a1a7e26d3c55639306ebbfcdc765",
     "grade": true,
     "grade_id": "cell-autograde-3",
     "locked": true,
     "points": 1,
     "schema_version": 3,
     "solution": false
    }
   },
   "outputs": [],
   "source": [
    "// Ignore this cell"
   ]
  },
  {
   "cell_type": "markdown",
   "metadata": {
    "deletable": false,
    "editable": false,
    "nbgrader": {
     "cell_type": "markdown",
     "checksum": "29f42e5f73f27d46737d40ef626f0f38",
     "grade": false,
     "grade_id": "cell-markdown-task4",
     "locked": true,
     "schema_version": 3,
     "solution": false
    }
   },
   "source": [
    "## Task 4\n",
    "(1 point)\n",
    "\n",
    "Define a pattern for selecting all words containing at least three times the character `a` (including its uppercase variant `A`).\n",
    "\n",
    "The example sentence for the test is:\n",
    "> Anastasia would like to have a banana split."
   ]
  },
  {
   "cell_type": "code",
   "execution_count": 11,
   "metadata": {
    "deletable": false,
    "nbgrader": {
     "cell_type": "code",
     "checksum": "6533fc0395c2bc425bc02e47df399822",
     "grade": false,
     "grade_id": "cell-code4",
     "locked": false,
     "schema_version": 3,
     "solution": true
    }
   },
   "outputs": [],
   "source": [
    "String pattern4 = \"\\\\w*[aA]\\\\w*[aA]\\\\w*[aA]\\\\w*\";\n",
    "// YOUR CODE HERE"
   ]
  },
  {
   "cell_type": "markdown",
   "metadata": {
    "deletable": false,
    "editable": false,
    "nbgrader": {
     "cell_type": "markdown",
     "checksum": "4b10c6cb83a9c3c0faee5072bc07588f",
     "grade": false,
     "grade_id": "cell-markdown-evaluation4",
     "locked": true,
     "schema_version": 3,
     "solution": false
    }
   },
   "source": [
    "#### Evaluation Task 4\n",
    "\n",
    "- Run the following cell to test your implementation.\n",
    "- Make sure that you executed the test for Task 1 _before_ executing the tests here.\n",
    "- You can ignore the cells containing the line `Ignore this cell`."
   ]
  },
  {
   "cell_type": "code",
   "execution_count": 12,
   "metadata": {
    "deletable": false,
    "editable": false,
    "nbgrader": {
     "cell_type": "code",
     "checksum": "f3f63715cd1baa0dafe2365c14a89e19",
     "grade": true,
     "grade_id": "cell-autograde-visible4",
     "locked": true,
     "points": 0,
     "schema_version": 3,
     "solution": false
    }
   },
   "outputs": [
    {
     "name": "stdout",
     "output_type": "stream",
     "text": [
      "Checking your pattern with the text \"Anastasia would like to have a banana split.\".\n",
      "Test(s) successfully completed.\n"
     ]
    }
   ],
   "source": [
    "/*\n",
    " * Example test case for Task 4\n",
    " */\n",
    "String text4 = \"Anastasia would like to have a banana split.\";\n",
    "int[][] expectedPositions4 = new int[2][2];\n",
    "expectedPositions4[0][0] = text4.indexOf(\"Anastasia\");\n",
    "expectedPositions4[0][1] = expectedPositions4[0][0] + 9;\n",
    "expectedPositions4[1][0] = text4.indexOf(\"banana\");\n",
    "expectedPositions4[1][1] = expectedPositions4[1][0] + 6;\n",
    "\n",
    "checkPattern(text4, pattern4, expectedPositions4);"
   ]
  },
  {
   "cell_type": "code",
   "execution_count": 13,
   "metadata": {
    "deletable": false,
    "editable": false,
    "nbgrader": {
     "cell_type": "code",
     "checksum": "ba87aad1f07593e8fbfce2d3f52795f8",
     "grade": true,
     "grade_id": "cell-autograde-4",
     "locked": true,
     "points": 1,
     "schema_version": 3,
     "solution": false
    }
   },
   "outputs": [],
   "source": [
    "// Ignore this cell"
   ]
  },
  {
   "cell_type": "code",
   "execution_count": null,
   "metadata": {},
   "outputs": [],
   "source": []
  }
 ],
 "metadata": {
  "kernelspec": {
   "display_name": "Java",
   "language": "java",
   "name": "java"
  },
  "language_info": {
   "codemirror_mode": "java",
   "file_extension": ".jshell",
   "mimetype": "text/x-java-source",
   "name": "Java",
   "pygments_lexer": "java",
   "version": "11.0.4+11-post-Ubuntu-1ubuntu218.04.3"
  }
 },
 "nbformat": 4,
 "nbformat_minor": 2
}
