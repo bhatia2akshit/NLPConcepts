{
 "cells": [
  {
   "cell_type": "markdown",
   "metadata": {
    "deletable": false,
    "editable": false,
    "nbgrader": {
     "cell_type": "markdown",
     "checksum": "d2fe3c32b41bcaee8c9cc42ca27fdbd9",
     "grade": false,
     "grade_id": "cell-markdown-task",
     "locked": true,
     "schema_version": 3,
     "solution": false
    }
   },
   "source": [
    "# Exercise 1 - Preprocessing\n",
    "(3 points)\n",
    "\n",
    "Given a text, your implementation of the `preprocess` method should perform a preprocessing generating a list of tokens. This preprocessing should include 1) lowercasing, 2) sentence splitting and 3) the removal of punctuations.\n",
    "\n",
    "For the input:\n",
    "```\n",
    "She said:\"I know that she likes English food!\"\n",
    "```\n",
    "the preprocessing should generate a `List<String>` containing\n",
    "```\n",
    "[<s>, she, said, i, know, that, she, likes, english, food, </s>]\n",
    "```\n",
    "(The line above is the output of `List.toString()`, i.e., the squared brackets and commas are not part of the tokens.)\n",
    "\n",
    "Your preprocessing should:\n",
    "* mark the beginning of a sentence with `<s>` and its end with `</s>`. For simplicity, you can assume that every occurence of `.`, `!` or `?` will end a sentence.\n",
    "* remove all non alphanumeric characters, i.e., the tokens should contain only lowercased, alphabetical character or digits. It is known that this will lead to some faulty behavior (e.g., `won't` will be cut into two words `won` and `t`). However, to keep the exercises easy, we will ignore these special cases.\n",
    "* not generate empty tokens or an empty sentence, i.e., `<s>, </s>` should never occur (while `</s>, <s>` is of cause necessary).\n",
    "\n",
    "#### Notes\n",
    "\n",
    "- You are free to use a different IDE to develop your solution. However, you have to copy the solution into this notebook to submit it.\n",
    "- Do not add additional external libraries.\n",
    "- Interface\n",
    "  - You can use _[TAB]_ for autocompletion and _[SHIFT]_+_[TAB]_ for code inspection.\n",
    "  - Use _Menu_ -> _View_ -> _Toggle Line Numbers_ for debugging.\n",
    "  - Check _Menu_ -> _Help_ -> _Keyboard Shortcuts_.\n",
    "- Known issues\n",
    "  - All global variables will be set to void after an import.\n",
    "  - Missing spaces arround `%` (Modulo) can cause unexpected errors so please make sure that you have added spaces around every `%` character.\n",
    "- Finish\n",
    "  - Save your solution by clicking on the _disk icon_.\n",
    "  - Make sure that all necessary imports are listed at the beginning of your cell.\n",
    "  - Run a final check of your solution by\n",
    "    - click on _restart the kernel, then re-run the whole notebook_ (the fast forward arrow in the tool bar)\n",
    "    - wait fo the kernel to restart and execute all cells (all executable cells should have numbers in front of them instead of a `[*]`) \n",
    "    - Check all executed cells for errors. If an exception is thrown, please check your code. Note that although the error might look cryptic, until now we never encounter that an exception was caused without a valid reason inside of the submitted code. A good way to check the code is to copy the solution into a new class in your favorite IDE and check\n",
    "      - errors reported by the IDE\n",
    "      - imports the IDE adds to your code which might be missing in your submission.\n",
    "  - Finally, choose _Menu_ -> _File_ -> _Close and Halt_.\n",
    "  - Do not forget to _Submit_ your solution in the _Assignments_ view."
   ]
  },
  {
   "cell_type": "code",
   "execution_count": 2,
   "metadata": {
    "deletable": false,
    "nbgrader": {
     "cell_type": "code",
     "checksum": "92dc61ac9753e09c54a5ff31adb66457",
     "grade": false,
     "grade_id": "cell-code",
     "locked": false,
     "schema_version": 3,
     "solution": true
    }
   },
   "outputs": [],
   "source": [
    "/**\n",
    " * The token used to indicate the beginning of a new sentence.\n",
    " */\n",
    "public static final String SENTENCE_START = \"<s>\";\n",
    "/**\n",
    " * The token used to indicate the end of a sentence.\n",
    " */\n",
    "public static final String SENTENCE_END = \"</s>\";\n",
    "\n",
    "public static List<String> preprocess(String text) {\n",
    "\n",
    "\t\tList<String> tokenList = new ArrayList<>();\n",
    "\t\tString text_array[] = text.replaceAll(\"[^ a-zA-Z0-9.?!]\",\" \").replaceAll(\"[.!?]\", \" </s> <s> \").toLowerCase().split(\" \");\n",
    "\t\ttokenList.add(\"<s>\");\n",
    "\t\tfor(String token: text_array){\n",
    "\t\t\tif(!(token.equals(\"\")))\n",
    "\t\t\t\ttokenList.add(token);\n",
    "\t\t}\n",
    "\t\ttokenList.remove(tokenList.size()-1);\n",
    "\t\treturn tokenList;\n",
    "\t}\n",
    "// This line should make sure that compile errors are directly identified when executing this cell\n",
    "// (the line itself does not produce any meaningful result)\n",
    "preprocess(\"\").clear();"
   ]
  },
  {
   "cell_type": "markdown",
   "metadata": {
    "deletable": false,
    "editable": false,
    "nbgrader": {
     "cell_type": "markdown",
     "checksum": "4e9c819c081918a6fde3b4ba21898440",
     "grade": false,
     "grade_id": "cell-markdown-evaluation",
     "locked": true,
     "schema_version": 3,
     "solution": false
    }
   },
   "source": [
    "# Evaluation\n",
    "\n",
    "- Run the following cell to test your implementation.\n",
    "- You can ignore the cells afterwards."
   ]
  },
  {
   "cell_type": "code",
   "execution_count": 3,
   "metadata": {
    "deletable": false,
    "editable": false,
    "nbgrader": {
     "cell_type": "code",
     "checksum": "d860ca3efb2737240228d9492f9f6f67",
     "grade": true,
     "grade_id": "cell-autograde-visible-1",
     "locked": true,
     "points": 0,
     "schema_version": 3,
     "solution": false
    }
   },
   "outputs": [
    {
     "name": "stdout",
     "output_type": "stream",
     "text": [
      "Test successfully completed.\n",
      "Test successfully completed.\n"
     ]
    }
   ],
   "source": [
    "%maven org.junit.jupiter:junit-jupiter-api:5.3.1\n",
    "import org.junit.jupiter.api.Assertions;\n",
    "import org.opentest4j.AssertionFailedError;\n",
    "\n",
    "public static void checkPreprocessingResult(String text, String expectedTokens[]) throws Exception {\n",
    "    try { \n",
    "        List<String> preProcResult = preprocess(text);\n",
    "        Assertions.assertNotNull(preProcResult, \"The given preprocessing result is null.\");\n",
    "        String[] result = preProcResult.toArray(new String[preProcResult.size()]);\n",
    "        Assertions.assertArrayEquals(expectedTokens, result, \n",
    "                                     \"Your preprocessing generated \" + \n",
    "                                     Arrays.toString(result) + \n",
    "                                     \" but the expected result was \" + Arrays.toString(expectedTokens));\n",
    "        Arrays.toString(expectedTokens);\n",
    "        System.out.println(\"Test successfully completed.\");\n",
    "    } catch (AssertionFailedError e) {\n",
    "        throw e;\n",
    "    } catch (Throwable e) {\n",
    "        System.err.println(\"Your solution caused an unexpected error:\");\n",
    "        throw e;\n",
    "    }\n",
    "}\n",
    "\n",
    "String text1 = \"She said:\\\"I know that she likes English food!\\\"\";\n",
    "String[] expectedTokens1 = new String[]{\"<s>\", \"she\", \"said\", \"i\", \"know\", \"that\", \"she\", \"likes\",\n",
    "                                        \"english\", \"food\", \"</s>\"};\n",
    "checkPreprocessingResult(text1, expectedTokens1);\n",
    "\n",
    "text1 = \"I do not eat this soup. No, I will not eat this soup. Soup is not what I like to eat 24/7.\";\n",
    "expectedTokens1 = new String[]{\"<s>\", \"i\", \"do\", \"not\", \"eat\", \"this\", \"soup\", \"</s>\", \"<s>\",\n",
    "                               \"no\", \"i\", \"will\", \"not\", \"eat\", \"this\", \"soup\", \"</s>\", \"<s>\",\n",
    "                               \"soup\", \"is\", \"not\", \"what\",\"i\", \"like\",\"to\", \"eat\", \"24\", \"7\",\n",
    "                               \"</s>\"};\n",
    "checkPreprocessingResult(text1, expectedTokens1);"
   ]
  },
  {
   "cell_type": "code",
   "execution_count": 3,
   "metadata": {
    "deletable": false,
    "editable": false,
    "nbgrader": {
     "cell_type": "code",
     "checksum": "8a3c775cba39765e86387d52378f4b40",
     "grade": true,
     "grade_id": "cell-autograde-1",
     "locked": true,
     "points": 1,
     "schema_version": 3,
     "solution": false
    }
   },
   "outputs": [],
   "source": [
    "// Ignore this cell"
   ]
  },
  {
   "cell_type": "code",
   "execution_count": 4,
   "metadata": {
    "deletable": false,
    "editable": false,
    "nbgrader": {
     "cell_type": "code",
     "checksum": "6e569d37c49fae9e63d6bd0dd0b00559",
     "grade": true,
     "grade_id": "cell-autograde-2",
     "locked": true,
     "points": 2,
     "schema_version": 3,
     "solution": false
    }
   },
   "outputs": [],
   "source": [
    "// Ignore this cell"
   ]
  }
 ],
 "metadata": {
  "kernelspec": {
   "display_name": "Java",
   "language": "java",
   "name": "java"
  },
  "language_info": {
   "codemirror_mode": "java",
   "file_extension": ".jshell",
   "mimetype": "text/x-java-source",
   "name": "Java",
   "pygments_lexer": "java",
   "version": "11.0.4+11-post-Ubuntu-1ubuntu218.04.3"
  }
 },
 "nbformat": 4,
 "nbformat_minor": 2
}
