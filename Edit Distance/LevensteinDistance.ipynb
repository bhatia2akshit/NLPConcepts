{
 "cells": [
  {
   "cell_type": "markdown",
   "metadata": {
    "deletable": false,
    "editable": false,
    "nbgrader": {
     "cell_type": "markdown",
     "checksum": "9811a4b898c865d36538de2da18c9144",
     "grade": false,
     "grade_id": "cell-markdown-task",
     "locked": true,
     "schema_version": 3,
     "solution": false
    }
   },
   "source": [
    "# Exercise 3 - Levenshtein distance\n",
    "(3 points)\n",
    "\n",
    "Finish the `calcLevenshteinDistance` method by implementing the calculation of the Levenshtein distance of the two given Strings. Use dynamic programming as described in the lecture slides.\n",
    "\n",
    "#### Hints\n",
    "\n",
    "- Please note that implementations that do not use dynamic programming (e.g., a recursive solution) may cause either a timeout or a stack overflow since your solution will be tested with long strings. In the provided tests, you will see a test case with two very long strings. Your solution is expected to handle them within 100ms. Note that you still can achieve points if your solution is slower, but it should be seen as a warning that it might cause issues during the evaluation.\n",
    "\n",
    "#### Notes\n",
    "\n",
    "- You are free to use a different IDE to develop your solution. However, you have to copy the solution into this notebook to submit it.\n",
    "- Do not add additional external libraries.\n",
    "- Interface\n",
    "  - You can use _[TAB]_ for autocompletion and _[SHIFT]_+_[TAB]_ for code inspection.\n",
    "  - Use _Menu_ -> _View_ -> _Toggle Line Numbers_ for debugging.\n",
    "  - Check _Menu_ -> _Help_ -> _Keyboard Shortcuts_.\n",
    "- Known issues\n",
    "  - All global variables will be set to void after an import.\n",
    "  - Missing spaces arround `%` (Modulo) can cause unexpected errors so please make sure that you have added spaces around every `%` character.\n",
    "- Finish\n",
    "  - Save your solution by clicking on the _disk icon_.\n",
    "  - Make sure that all necessary imports are listed at the beginning of your cell.\n",
    "  - Run a final check of your solution by\n",
    "    - click on _restart the kernel, then re-run the whole notebook_ (the fast forward arrow in the tool bar)\n",
    "    - wait fo the kernel to restart and execute all cells (all executable cells should have numbers in front of them instead of a `[*]`) \n",
    "    - Check all executed cells for errors. If an exception is thrown, please check your code. Note that although the error might look cryptic, until now we never encounter that an exception was caused without a valid reason inside of the submitted code. A good way to check the code is to copy the solution into a new class in your favorite IDE and check\n",
    "      - errors reported by the IDE\n",
    "      - imports the IDE adds to your code which might be missing in your submission.\n",
    "  - Finally, choose _Menu_ -> _File_ -> _Close and Halt_.\n",
    "  - Do not forget to _Submit_ your solution in the _Assignments_ view."
   ]
  },
  {
   "cell_type": "code",
   "execution_count": 1,
   "metadata": {
    "deletable": false,
    "nbgrader": {
     "cell_type": "code",
     "checksum": "fb935e38aa446e1bf181e371073e4d2f",
     "grade": false,
     "grade_id": "cell-code",
     "locked": false,
     "schema_version": 3,
     "solution": true
    }
   },
   "outputs": [],
   "source": [
    "public int calcLevenshteinDistance(String string1, String string2) {\n",
    "    int distance = 0;\n",
    "\t\t// YOUR CODE HERE\n",
    "\n",
    "\t\tint[] changes = new int[string2.length() + 1];\n",
    "\t\tint index2 = 0;\n",
    "\t\twhile(index2<changes.length){\n",
    "\n",
    "\t\t\tchanges[index2] = index2;\n",
    "\t\t\tindex2++;\n",
    "\t\t}\n",
    "        int index1 = 1;\n",
    "       while(index1<=string1.length()){\n",
    "\t\t\tchanges[0] = index1;\n",
    "\t\t\tint previousEdit = index1 - 1;\n",
    "\t\t\tfor ( index2 = 1; index2 <= string2.length(); index2++) {\n",
    "\n",
    "\t\t\t\t// whenever we found a change in the character, we add 1 in the\n",
    "\t\t\t\t// previous editdistance and then run the minimum formula on it\n",
    "\t\t\t\t// with the other distance\n",
    "\t\t\t\tint newEditDistance = Math.min(1 + Math.min(changes[index2 - 1], changes[index2]),\n",
    "\t\t\t\t\t\tstring1.charAt(index1 - 1) == string2.charAt(index2 - 1) ? previousEdit : previousEdit + 1);\n",
    "\t\t\t\tpreviousEdit = changes[index2];\n",
    "\t\t\t\tchanges[index2] = newEditDistance;\n",
    "\t\t\t}\n",
    "                index1++;\n",
    "\t\t}\n",
    "\t\tdistance = changes[string2.length()];\n",
    "\t\treturn distance;\n",
    "}\n",
    "\n",
    "// This line should make sure that compile errors are directly identified when executing this cell\n",
    "// (the line itself does not produce any meaningful result)\n",
    "Arrays.sort(new int[calcLevenshteinDistance(\"a\",\"a\")]);"
   ]
  },
  {
   "cell_type": "markdown",
   "metadata": {
    "deletable": false,
    "editable": false,
    "nbgrader": {
     "cell_type": "markdown",
     "checksum": "4e9c819c081918a6fde3b4ba21898440",
     "grade": false,
     "grade_id": "cell-markdown-evaluation",
     "locked": true,
     "schema_version": 3,
     "solution": false
    }
   },
   "source": [
    "# Evaluation\n",
    "\n",
    "- Run the following cell to test your implementation.\n",
    "- You can ignore the cells afterwards."
   ]
  },
  {
   "cell_type": "code",
   "execution_count": 2,
   "metadata": {
    "deletable": false,
    "editable": false,
    "nbgrader": {
     "cell_type": "code",
     "checksum": "0bfd383be495594c7a92b244767e2da8",
     "grade": true,
     "grade_id": "cell-autograde-visible",
     "locked": true,
     "points": 0,
     "schema_version": 3,
     "solution": false
    }
   },
   "outputs": [
    {
     "name": "stdout",
     "output_type": "stream",
     "text": [
      "Test successfully completed.\n",
      "Test successfully completed.\n",
      "Test successfully completed.\n",
      "Test successfully completed.\n",
      "Test successfully completed.\n",
      "Test successfully completed.\n",
      "Test successfully completed.\n",
      "Test successfully completed.\n"
     ]
    }
   ],
   "source": [
    "%maven org.junit.jupiter:junit-jupiter-api:5.3.1\n",
    "import org.junit.jupiter.api.Assertions;\n",
    "import org.opentest4j.AssertionFailedError;\n",
    "\n",
    "public void checkLevenshteinDistance(String s1, String s2, int expectedDistance) {\n",
    "    checkLevenshteinDistance(s1, s2, expectedDistance, 1);\n",
    "}\n",
    "    \n",
    "public void checkLevenshteinDistance(String s1, String s2, int expectedDistance, long maxRuntime) {\n",
    "    try {\n",
    "        long time = System.currentTimeMillis();\n",
    "        int result = calcLevenshteinDistance(s1, s2);\n",
    "        time = System.currentTimeMillis() - time;\n",
    "        Assertions.assertEquals(expectedDistance, result, \"For levenshtein(\\\"\" + s1 + \"\\\",\\\"\" + s2\n",
    "                + \"\\\") your solution returned \" + result + \" while \" + expectedDistance + \" has been expected.\");\n",
    "        if(time > maxRuntime) {\n",
    "            System.out.println(\"Test successfully completed. Your solution took more time (\" \n",
    "                               + time + \"ms) than expected (\" + maxRuntime + \"ms).\");\n",
    "        } else {\n",
    "            System.out.println(\"Test successfully completed.\");\n",
    "        }\n",
    "    } catch (AssertionFailedError e) {\n",
    "        throw e;\n",
    "    } catch (Throwable e) {\n",
    "        System.err.println(\"Your solution caused an unexpected error:\");\n",
    "        throw e;\n",
    "    }\n",
    "}\n",
    "\n",
    "checkLevenshteinDistance(\"abababab\", \"aaaaaaaa\", 4);\n",
    "checkLevenshteinDistance(\"rupert\", \"Robert\", 3);\n",
    "checkLevenshteinDistance(\"Robert\", \"rupert\", 3);\n",
    "checkLevenshteinDistance(\"Robert\", \"Robert\", 0);\n",
    "checkLevenshteinDistance(\"abcde\", \"\", 5);\n",
    "checkLevenshteinDistance(\"\", \"abcde\", 5);\n",
    "\n",
    "\n",
    "String word1 = \"bqsvtzfhktnqovnjmkktluayihcfelhfqfsordvkxrmweenobehobnokrzabxcglfavxwyqlhjjlfxyx\"\n",
    "    + \"ddptklfuwvtvwgecpdskvovhrrlaoqzjqkpauhpkkrxtrwmrevimykuyvstfgsmeegqjvxcstegiiqgl\"\n",
    "    + \"auprgfuchymgvznavfpxnflxlujvtsshwhsnkunetfiwvqppaanugcovhnvwwedxywtkswmfeccatpna\"\n",
    "    + \"fzntnagkjpsinosekeahzmqtcpjkaxzmunclbcurppwumfnmxlrfgjxsddblhiorwiaqcjlbnbfkdjfr\"\n",
    "    + \"fqeqzrlfoiejfcmwdrcxneoquogbbuwdsykxvjpmfahmoybrqmneyrlutiunrbhfclzzhdtlxnwivoeg\"\n",
    "    + \"zfzxmargbkxkjnqiuqsgakhzgxkxtchewatusacyeodaankidwezlopjabyzaxpxzffxnqaredklqron\"\n",
    "    + \"slyzqgtfdjkaiwdcgalwvgpnlbxvuyqmhxsudcthfgziahugmjdhpqjucyvffviupnzmdtbatqbfewhy\"\n",
    "    + \"jyfsijxxuyoyonldvclzrdoujbaskietubkfoopbeucqrgxzvmkwcdmbuglfcnkizkefskvmqazbtyyn\"\n",
    "    + \"lrwptebsqvrtwtfukoesbjtgcxesvimzzdyoqvnclbedqhhgirhdyexourkwhzpjxjctdvqpiprfedsr\"\n",
    "    + \"xywdzncqihboggtekrknjbrlflrfegxjbvaqqjcodbzmvgefbateguibcajueuohwftimarzgjjygyng\"\n",
    "    + \"ayihcjnlnhidcooojummtbjuaddjsfyxqqpmphsuicxeeaizqrsrdomxhxwymjtfuigiijwowdoolbdv\"\n",
    "    + \"bvwtipnybxndkubuzskeycpjuuiutokzlibbprywcnovjrbrhmlsoyumyxuaswbkoopaxbndrjyocqle\"\n",
    "    + \"ishdwuuummzmtovjidjetgsfftrfmiqjckfphsvt\";\n",
    "String word2 = \"bqsvtzfhktnuosnjmkktluayihcfelhfqfsordvkxrmweenobelobnocrzabxcglnavxcyqlhjjlfxyx\"\n",
    "    + \"odptklfurvtvwiecpdrkvovhrrlnoizjqkpauhpkkrxtrwmrmvimykuyvstfgsmeenqjvxcstegiiqgl\"\n",
    "    + \"aufrgfuchymgvznavfpxnflxlujvtssxwhsnkuneqfiwvqpdaanugcnvhavwwedxywtkswmfeccatpna\"\n",
    "    + \"fzntnagkjpsinosekeahzmqtcpnkapzmunclbcurppwumfnmxmrfglxjddblhiorwiaqcjlbnbfkdjfw\"\n",
    "    + \"fqeqzrjfoiejkcmwdrcxneonuogbmtwdsfkxvjpkfahmrynrqgneyrfutiunrbhfclzzhdtlxpwinocg\"\n",
    "    + \"zfzxmargbkzkjnqiuqsgakfzgxkctbwewatusacyeodaankidwyzlopqabyzaxpxzffxnqaredkjqron\"\n",
    "    + \"slyzqgtfdokaiwdcgalwvtpnlbxvuyqmhxsudcthfgzidhugmjdhpqjucyvffviupnzbdnbatqbfewhy\"\n",
    "    + \"jyflcjxxuyoyonldvcpardoujbaskietubkfoopbeucqrgxzvmkwcdmbuglfqnkizkefhkvmqazbtkvn\"\n",
    "    + \"lrwptebsqvrtwtfukoesbjtgcxesvimzzdpoqvnclbedqhomcrhdyexouukwwzpfxjctdiqpiprfedsr\"\n",
    "    + \"xyodzncqijbogutekrknbbrlflrfegxjbvaqqjcodbzmvgefbateguiscajueuohjftimvrzgjjygymg\"\n",
    "    + \"zyihcjnlnzidcaoojulmtbjuaddjslyxqlpmxhsuibxeeaizqrkrdomxhxwymjtfuigiijwowdoolbdv\"\n",
    "    + \"svwtihnybxndkubhzskeycpjuuiutokzlibbprywcnovjrbrvllsogumyxuwswqkoouaxbnidjywcqle\"\n",
    "    + \"ishbwuuummzmtovjidjetgsfftrfmiqjckfphsvt\";\n",
    "checkLevenshteinDistance(word1, word2, 99, 100); // ~100ms are still ok\n",
    "checkLevenshteinDistance(word2, word1, 99, 100);"
   ]
  },
  {
   "cell_type": "code",
   "execution_count": 3,
   "metadata": {
    "deletable": false,
    "editable": false,
    "nbgrader": {
     "cell_type": "code",
     "checksum": "98a0e441548d0f79fcde914ccf9eb3dc",
     "grade": true,
     "grade_id": "cell-autograde-1",
     "locked": true,
     "points": 2,
     "schema_version": 3,
     "solution": false
    }
   },
   "outputs": [],
   "source": [
    "// Ignore this cell"
   ]
  },
  {
   "cell_type": "code",
   "execution_count": 4,
   "metadata": {
    "deletable": false,
    "editable": false,
    "nbgrader": {
     "cell_type": "code",
     "checksum": "524647178811e51573f60ce2158d7f95",
     "grade": true,
     "grade_id": "cell-autograde-2",
     "locked": true,
     "points": 1,
     "schema_version": 3,
     "solution": false
    }
   },
   "outputs": [],
   "source": [
    "// Ignore this cell"
   ]
  },
  {
   "cell_type": "code",
   "execution_count": null,
   "metadata": {},
   "outputs": [],
   "source": []
  }
 ],
 "metadata": {
  "kernelspec": {
   "display_name": "Java",
   "language": "java",
   "name": "java"
  },
  "language_info": {
   "codemirror_mode": "java",
   "file_extension": ".jshell",
   "mimetype": "text/x-java-source",
   "name": "Java",
   "pygments_lexer": "java",
   "version": "11.0.4+11-post-Ubuntu-1ubuntu218.04.3"
  }
 },
 "nbformat": 4,
 "nbformat_minor": 2
}
