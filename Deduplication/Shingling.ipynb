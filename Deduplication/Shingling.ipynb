{
 "cells": [
  {
   "cell_type": "markdown",
   "metadata": {
    "deletable": false,
    "editable": false,
    "nbgrader": {
     "cell_type": "markdown",
     "checksum": "9cdd673bf8bb3dc5db73d4c921a2633c",
     "grade": false,
     "grade_id": "cell-markdown-task",
     "locked": true,
     "schema_version": 3,
     "solution": false
    }
   },
   "source": [
    "# Exercise 1 - Shingling\n",
    "(5 points)\n",
    "\n",
    "Finalize the implementation of the `ShinglingProcessor` class. \n",
    "* Its `apply` method implements the shingling from the lecture slides based on set semantics. It returns the ids of the shingles that have been found within a given document.\n",
    "* Its constructor takes the length of the shingles.\n",
    "* The `jaccardSim` method should return the jaccard similarity of the two given shingle sets.\n",
    "\n",
    "#### Example\n",
    "\n",
    "The document\n",
    "```\n",
    "google is good\n",
    "```\n",
    "has the following shingles with length 3\n",
    "```\n",
    "\"goo\", \"oog\", \"ogl\", \"gle\", \"le \", \"e i\", \" is\", \"is \", \"s g\", \" go\", \"ood\"\n",
    "```\n",
    "Since set semantics is used, the second occurence of `\"goo\"` is not added a second time to the list of shingles. If the shingles are simply assigned ids in the order in which they have been seen, the document would be represented by the following shingle ids (starting with 0):\n",
    "```\n",
    "    0,     1,     2,     3,     4,     5,     6,     7,     8,     9,   10\n",
    "```\n",
    "A second document\n",
    "```\n",
    "gooses google\n",
    "```\n",
    "would lead to the shingles\n",
    "```\n",
    "\"goo\", \"oos\", \"ose\", \"ses\", \"es \", \"s g\", \" go\", \"oog\", \"ogl\", \"gle\"\n",
    "```\n",
    "and the ids\n",
    "```\n",
    "    0,    11,    12,    13,    14,     8,     9,     1,     2,     3\n",
    "```\n",
    "\n",
    "The intersection off their ids is $\\{0,1,2,3,8,9\\}$ while their union is \n",
    "$\\{0,1,2,3,4,5,6,7,8,9,10,11,12,13,14\\}$. Therefore, their Jaccard similarity\n",
    "is $6/15 = 0.4$\n",
    "\n",
    "#### Hints\n",
    "\n",
    "- As it can be seen in the example, the first three letter of a document form the first shingle of the document and the last three letters form the last shingle.\n",
    "- For the tests in **this notebook**, you can assume, that the input documents have already been preprocessed and contain only the following three character classes:\n",
    "  - lowercased alphabetic characters\n",
    "  - digits\n",
    "  - whitespaces\n",
    "\n",
    "#### Notes\n",
    "\n",
    "- You are free to use a different IDE to develop your solution. However, you have to copy the solution into this notebook to submit it.\n",
    "- Do not add additional external libraries.\n",
    "- Interface\n",
    "  - You can use _[TAB]_ for autocompletion and _[SHIFT]_+_[TAB]_ for code inspection.\n",
    "  - Use _Menu_ -> _View_ -> _Toggle Line Numbers_ for debugging.\n",
    "  - Check _Menu_ -> _Help_ -> _Keyboard Shortcuts_.\n",
    "- Known issues\n",
    "  - All global variables will be set to void after an import.\n",
    "  - Missing spaces arround `%` (Modulo) can cause unexpected errors so please make sure that you have added spaces around every `%` character.\n",
    "- Finish\n",
    "  - Save your solution by clicking on the _disk icon_.\n",
    "  - Make sure that all necessary imports are listed at the beginning of your cell.\n",
    "  - Run a final check of your solution by\n",
    "    - click on _restart the kernel, then re-run the whole notebook_ (the fast forward arrow in the tool bar)\n",
    "    - wait fo the kernel to restart and execute all cells (all executable cells should have numbers in front of them instead of a `[*]`) \n",
    "    - Check all executed cells for errors. If an exception is thrown, please check your code. Note that although the error might look cryptic, until now we never encounter that an exception was caused without a valid reason inside of the submitted code. A good way to check the code is to copy the solution into a new class in your favorite IDE and check\n",
    "      - errors reported by the IDE\n",
    "      - imports the IDE adds to your code which might be missing in your submission.\n",
    "  - Finally, choose _Menu_ -> _File_ -> _Close and Halt_.\n",
    "  - Do not forget to _Submit_ your solution in the _Assignments_ view."
   ]
  },
  {
   "cell_type": "code",
   "execution_count": 1,
   "metadata": {
    "deletable": false,
    "nbgrader": {
     "cell_type": "code",
     "checksum": "d479da190f4d2cea41b25b830d362fa9",
     "grade": false,
     "grade_id": "cell-code",
     "locked": false,
     "schema_version": 3,
     "solution": true
    }
   },
   "outputs": [
    {
     "name": "stdout",
     "output_type": "stream",
     "text": [
      "compiled\n"
     ]
    }
   ],
   "source": [
    "import java.util.ArrayList;\n",
    "import java.util.HashSet;\n",
    "import java.util.List;\n",
    "import java.util.Set;\n",
    "\n",
    "public class ShinglingProcessor {\n",
    "\t\n",
    "\tList<String> setString = new ArrayList<>();\n",
    "\tint length=0;\n",
    "\tShinglingProcessor(int length){\n",
    "\t\tthis.length = length;\n",
    "\t}\n",
    "\t\n",
    "\tpublic Set<Integer> applyShingling(String shingle) {\n",
    "\t\tSet<Integer> shingle1 = new HashSet<Integer>();\n",
    "\t\tString token = null;\n",
    "\t\tfor (int i = 0; i < shingle.length()-length+1; i++) {\n",
    "\t\t\ttoken = shingle.substring(i, i + length);\n",
    "\t\t\tif (!setString.contains(token))\n",
    "\t\t\t\tsetString.add(token);\n",
    "\t\t\tshingle1.add(setString.indexOf(token));\n",
    "\t\t}\n",
    "\t\t\n",
    "\t\treturn shingle1;\n",
    "\t}\n",
    "\n",
    "\tpublic static double jaccardSim(Set<Integer> set1, Set<Integer> set2) {\n",
    "\t\tdouble similarity = 0;\n",
    "\t\t// YOUR CODE HERE\n",
    "\t\t\n",
    "\t\tSet<Integer> set = new HashSet<>();\n",
    "\t\tfor(Integer in : set1){\n",
    "\t\t\tset.add(in);\n",
    "\t\t}\n",
    "\t\tset.addAll(set2);\n",
    "\t\tset1.retainAll(set2);\n",
    "\t\tsimilarity = (double)set1.size() / set.size();\n",
    "\n",
    "\t\treturn similarity;\n",
    "\t}\n",
    "\t\n",
    "\t\n",
    "\n",
    "}\n",
    "\n",
    "// This line should make sure that compile errors are directly identified when executing this cell\n",
    "// (the line itself does not produce any meaningful result)\n",
    "new ShinglingProcessor(0);\n",
    "System.out.println(\"compiled\");"
   ]
  },
  {
   "cell_type": "markdown",
   "metadata": {
    "deletable": false,
    "editable": false,
    "nbgrader": {
     "cell_type": "markdown",
     "checksum": "4e9c819c081918a6fde3b4ba21898440",
     "grade": false,
     "grade_id": "cell-markdown-evaluation",
     "locked": true,
     "schema_version": 3,
     "solution": false
    }
   },
   "source": [
    "# Evaluation\n",
    "\n",
    "- Run the following cell to test your implementation.\n",
    "- You can ignore the cells afterwards."
   ]
  },
  {
   "cell_type": "code",
   "execution_count": 2,
   "metadata": {
    "deletable": false,
    "editable": false,
    "nbgrader": {
     "cell_type": "code",
     "checksum": "6967049a9c4a5fe60398ffb276321588",
     "grade": true,
     "grade_id": "cell-autograde-visible",
     "locked": true,
     "points": 0,
     "schema_version": 3,
     "solution": false
    }
   },
   "outputs": [
    {
     "name": "stdout",
     "output_type": "stream",
     "text": [
      "Test successfully completed. Your implementation took 1ms.\n",
      "Test successfully completed. Your implementation took 0ms.\n",
      "Test successfully completed. Your implementation took 0ms.\n",
      "Test successfully completed. Your implementation took 0ms.\n"
     ]
    }
   ],
   "source": [
    "%maven org.junit.jupiter:junit-jupiter-api:5.3.1\n",
    "import org.junit.jupiter.api.Assertions;\n",
    "import org.opentest4j.AssertionFailedError;\n",
    "\n",
    "/**\n",
    " * Test class for the ShinglingProcessor.\n",
    " */\n",
    "public class ShingleTest {\n",
    "    \n",
    "    public static final double DELTA = 0.000001;\n",
    "\n",
    "    /**\n",
    "     * Tests the given ShinglingProcessor by calculating the shingles of the given texts as well as\n",
    "     * their jaccard similarity. The similarity is compared with the given, expected similarity.\n",
    "     *\n",
    "     * @param shingling The ShinglingProcessor instance that should be tested\n",
    "     * @param text1 Text 1 that will be compared to Text 2\n",
    "     * @param text2 Text 2 that will be compared to Text 1\n",
    "     * @param expectedSim The expected value of the Jaccard similarity\n",
    "     */\n",
    "    public static void checkShingleSimilarity(ShinglingProcessor shingling, String text1, String text2,\n",
    "            double expectedSim) throws Exception {\n",
    "        checkShingleSimilarity(shingling, text1, text2, expectedSim, 0);\n",
    "    }\n",
    "\n",
    "    /**\n",
    "     * Tests the given ShinglingProcessor by calculating the shingles of the given texts as well as\n",
    "     * their jaccard similarity. The similarity is compared with the given, expected similarity.\n",
    "     *\n",
    "     * @param shingling The ShinglingProcessor instance that should be tested\n",
    "     * @param text1 Text 1 that will be compared to Text 2\n",
    "     * @param text2 Text 2 that will be compared to Text 1\n",
    "     * @param expectedSim The expected value of the Jaccard similarity\n",
    "     * @param warnRuntime Prints a warning if the runtime of the ShinglingProcessor exceeds the\n",
    "     *                    given runtime. (0 turns this feature off)\n",
    "     */\n",
    "    public static void checkShingleSimilarity(ShinglingProcessor shingling, String text1, String text2,\n",
    "            double expectedSim, long warnRuntime) throws Exception {\n",
    "        try {\n",
    "            long time = System.currentTimeMillis();\n",
    "            double similarity = ShinglingProcessor.jaccardSim(shingling.applyShingling(text1),\n",
    "                    shingling.applyShingling(text2));\n",
    "            time = System.currentTimeMillis() - time;\n",
    "            double diff = Math.abs(similarity - expectedSim);\n",
    "            Assertions.assertTrue(diff < DELTA, \"Your Jaccard similarity of the shingles of \\\"\" + text1 + \"\\\" and \\\"\"\n",
    "                    + text2 + \"\\\" is \" + similarity + \" but the expected similarity was \" + expectedSim);\n",
    "            System.out.print(\"Test successfully completed. Your implementation took \");\n",
    "            System.out.print(time);\n",
    "            // If we are checking for runtime and the solution took more time than expected\n",
    "            if((warnRuntime > 0 ) && (time > warnRuntime)) {\n",
    "                System.out.print(\"ms. This might be too slow for the later exercises!\");\n",
    "            } else {\n",
    "                System.out.println(\"ms.\");\n",
    "            }\n",
    "        } catch (AssertionFailedError e) {\n",
    "            throw e;\n",
    "        } catch (Throwable e) {\n",
    "            System.err.println(\"Your solution caused an unexpected error:\");\n",
    "            throw e;\n",
    "        }\n",
    "    }\n",
    "}\n",
    "\n",
    "// example text\n",
    "ShinglingProcessor processor = new ShinglingProcessor(3);\n",
    "ShingleTest.checkShingleSimilarity(processor, \"google is good\", \"gooses google\", 0.4, 10);\n",
    "ShingleTest.checkShingleSimilarity(processor, \"abc\", \"cba\", 0.0, 10);\n",
    "\n",
    "processor = new ShinglingProcessor(1);\n",
    "ShingleTest.checkShingleSimilarity(processor, \"example\", \"elpmaxe\", 1.0, 10);\n",
    "processor = new ShinglingProcessor(2);\n",
    "ShingleTest.checkShingleSimilarity(processor, \"example\", \"elpmaxe\", 0.0, 10);\n"
   ]
  },
  {
   "cell_type": "code",
   "execution_count": 3,
   "metadata": {
    "deletable": false,
    "editable": false,
    "nbgrader": {
     "cell_type": "code",
     "checksum": "f270bb2edc46d738da4de0040b4ba843",
     "grade": true,
     "grade_id": "cell-autograde-1",
     "locked": true,
     "points": 3,
     "schema_version": 3,
     "solution": false
    }
   },
   "outputs": [],
   "source": [
    "// Ignore this cell"
   ]
  },
  {
   "cell_type": "code",
   "execution_count": 4,
   "metadata": {
    "deletable": false,
    "editable": false,
    "nbgrader": {
     "cell_type": "code",
     "checksum": "6e569d37c49fae9e63d6bd0dd0b00559",
     "grade": true,
     "grade_id": "cell-autograde-2",
     "locked": true,
     "points": 2,
     "schema_version": 3,
     "solution": false
    }
   },
   "outputs": [],
   "source": [
    "// Ignore this cell"
   ]
  },
  {
   "cell_type": "code",
   "execution_count": 5,
   "metadata": {},
   "outputs": [
    {
     "name": "stdout",
     "output_type": "stream",
     "text": [
      "Test successfully completed. Your implementation took 0ms.\n",
      "Test successfully completed. Your implementation took 0ms.\n",
      "Test successfully completed. Your implementation took 0ms.\n",
      "Test successfully completed. Your implementation took 0ms.\n",
      "Test successfully completed. Your implementation took 0ms.\n",
      "Test successfully completed. Your implementation took 0ms.\n"
     ]
    }
   ],
   "source": [
    "ShinglingProcessor processor = null;\n",
    "\n",
    "\n",
    "processor = new ShinglingProcessor(1);\n",
    "ShingleTest.checkShingleSimilarity(processor, \"abc\", \"cba\", 1.0);\n",
    "ShingleTest.checkShingleSimilarity(processor, \"cba\", \"abc\", 1.0); // check symmetry\n",
    "ShingleTest.checkShingleSimilarity(processor, \"abc\", \"def\", 0.0);\n",
    "\n",
    "processor = new ShinglingProcessor(5);\n",
    "ShingleTest.checkShingleSimilarity(processor, \"abcdef\", \"abcdeg\", 1.0/3.0);\n",
    "ShingleTest.checkShingleSimilarity(processor, \"abcde\", \"abcdef\", 0.5);\n",
    "ShingleTest.checkShingleSimilarity(processor, \"abcdef\", \"abcde\", 0.5); // check symmetry"
   ]
  },
  {
   "cell_type": "code",
   "execution_count": 6,
   "metadata": {},
   "outputs": [
    {
     "name": "stdout",
     "output_type": "stream",
     "text": [
      "Test successfully completed. Your implementation took 908300ms.\n"
     ]
    }
   ],
   "source": [
    "%maven commons-io:commons-io:2.6\n",
    "import org.apache.commons.io.FileUtils;\n",
    "\n",
    "ShinglingProcessor processor = new ShinglingProcessor(5);\n",
    "String fileContent = FileUtils.readFileToString(new File(\"/srv/distribution/shakespeare-dedup-pre.txt\"), \"UTF-8\");\n",
    "int posToCut = fileContent.length() / 2;\n",
    "ShingleTest.checkShingleSimilarity(processor,\n",
    "                       fileContent.substring(0, posToCut),\n",
    "                       fileContent.substring(posToCut),\n",
    "                       0.6092518101367659);"
   ]
  },
  {
   "cell_type": "code",
   "execution_count": null,
   "metadata": {},
   "outputs": [],
   "source": []
  }
 ],
 "metadata": {
  "kernelspec": {
   "display_name": "Java",
   "language": "java",
   "name": "java"
  },
  "language_info": {
   "codemirror_mode": "java",
   "file_extension": ".jshell",
   "mimetype": "text/x-java-source",
   "name": "Java",
   "pygments_lexer": "java",
   "version": "11.0.4+11-post-Ubuntu-1ubuntu218.04.3"
  }
 },
 "nbformat": 4,
 "nbformat_minor": 2
}
